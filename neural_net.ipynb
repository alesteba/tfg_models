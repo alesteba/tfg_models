{
 "cells": [
  {
   "cell_type": "code",
   "execution_count": 1,
   "metadata": {},
   "outputs": [],
   "source": [
    "import pandas as pd\n",
    "import numpy as np\n",
    "import random"
   ]
  },
  {
   "cell_type": "code",
   "execution_count": 2,
   "metadata": {},
   "outputs": [],
   "source": [
    "import matplotlib.pyplot as plt\n",
    "from matplotlib.colors import ListedColormap\n",
    "import matplotlib.patches as mpatches\n",
    "import seaborn as sb"
   ]
  },
  {
   "cell_type": "code",
   "execution_count": 3,
   "metadata": {},
   "outputs": [
    {
     "data": {
      "text/html": [
       "<div>\n",
       "<style scoped>\n",
       "    .dataframe tbody tr th:only-of-type {\n",
       "        vertical-align: middle;\n",
       "    }\n",
       "\n",
       "    .dataframe tbody tr th {\n",
       "        vertical-align: top;\n",
       "    }\n",
       "\n",
       "    .dataframe thead th {\n",
       "        text-align: right;\n",
       "    }\n",
       "</style>\n",
       "<table border=\"1\" class=\"dataframe\">\n",
       "  <thead>\n",
       "    <tr style=\"text-align: right;\">\n",
       "      <th></th>\n",
       "      <th>IDX</th>\n",
       "      <th>mean_ndvi_2022-06-02</th>\n",
       "      <th>mean_ndvi_2022-06-17</th>\n",
       "      <th>mean_ndvi_2022-06-07</th>\n",
       "      <th>mean_ndvi_2022-06-22</th>\n",
       "      <th>mean_ndvi_2022-06-12</th>\n",
       "      <th>mean_ndre_2022-06-02</th>\n",
       "      <th>mean_ndre_2022-06-17</th>\n",
       "      <th>mean_ndre_2022-06-07</th>\n",
       "      <th>mean_ndre_2022-06-12</th>\n",
       "      <th>IDX.1</th>\n",
       "      <th>sum_ndvi_2022-06-02</th>\n",
       "      <th>sum_ndvi_2022-06-17</th>\n",
       "      <th>sum_ndvi_2022-06-07</th>\n",
       "      <th>sum_ndvi_2022-06-22</th>\n",
       "      <th>sum_ndvi_2022-06-12</th>\n",
       "      <th>sum_ndre_2022-06-02</th>\n",
       "      <th>sum_ndre_2022-06-17</th>\n",
       "      <th>sum_ndre_2022-06-07</th>\n",
       "      <th>sum_ndre_2022-06-12</th>\n",
       "    </tr>\n",
       "  </thead>\n",
       "  <tbody>\n",
       "    <tr>\n",
       "      <th>0</th>\n",
       "      <td>3942</td>\n",
       "      <td>0.007476</td>\n",
       "      <td>0.212770</td>\n",
       "      <td>0.180844</td>\n",
       "      <td>0.038478</td>\n",
       "      <td>0.219896</td>\n",
       "      <td>-0.017073</td>\n",
       "      <td>0.151714</td>\n",
       "      <td>0.123746</td>\n",
       "      <td>0.153333</td>\n",
       "      <td>3942</td>\n",
       "      <td>0.530825</td>\n",
       "      <td>15.106694</td>\n",
       "      <td>12.839933</td>\n",
       "      <td>2.731913</td>\n",
       "      <td>15.612608</td>\n",
       "      <td>-1.212181</td>\n",
       "      <td>10.771678</td>\n",
       "      <td>8.785966</td>\n",
       "      <td>10.886635</td>\n",
       "    </tr>\n",
       "    <tr>\n",
       "      <th>1</th>\n",
       "      <td>4053</td>\n",
       "      <td>0.008709</td>\n",
       "      <td>0.202058</td>\n",
       "      <td>0.165046</td>\n",
       "      <td>-0.019584</td>\n",
       "      <td>0.198812</td>\n",
       "      <td>-0.007738</td>\n",
       "      <td>0.134886</td>\n",
       "      <td>0.106043</td>\n",
       "      <td>0.128798</td>\n",
       "      <td>4053</td>\n",
       "      <td>1.689533</td>\n",
       "      <td>39.199349</td>\n",
       "      <td>32.018860</td>\n",
       "      <td>-3.799293</td>\n",
       "      <td>38.569600</td>\n",
       "      <td>-1.501124</td>\n",
       "      <td>26.167940</td>\n",
       "      <td>20.572346</td>\n",
       "      <td>24.986805</td>\n",
       "    </tr>\n",
       "    <tr>\n",
       "      <th>2</th>\n",
       "      <td>4196</td>\n",
       "      <td>0.204576</td>\n",
       "      <td>0.192939</td>\n",
       "      <td>0.156745</td>\n",
       "      <td>-0.011448</td>\n",
       "      <td>0.186642</td>\n",
       "      <td>0.226347</td>\n",
       "      <td>0.128658</td>\n",
       "      <td>0.095656</td>\n",
       "      <td>0.117090</td>\n",
       "      <td>4196</td>\n",
       "      <td>19.639275</td>\n",
       "      <td>18.522111</td>\n",
       "      <td>15.047543</td>\n",
       "      <td>-1.099016</td>\n",
       "      <td>17.917662</td>\n",
       "      <td>21.729303</td>\n",
       "      <td>12.351145</td>\n",
       "      <td>9.183014</td>\n",
       "      <td>11.240659</td>\n",
       "    </tr>\n",
       "    <tr>\n",
       "      <th>3</th>\n",
       "      <td>4422</td>\n",
       "      <td>-0.001838</td>\n",
       "      <td>0.198717</td>\n",
       "      <td>0.181343</td>\n",
       "      <td>-0.002894</td>\n",
       "      <td>0.215428</td>\n",
       "      <td>-0.036878</td>\n",
       "      <td>0.132829</td>\n",
       "      <td>0.113879</td>\n",
       "      <td>0.136089</td>\n",
       "      <td>4422</td>\n",
       "      <td>-0.104746</td>\n",
       "      <td>11.326846</td>\n",
       "      <td>10.336535</td>\n",
       "      <td>-0.164956</td>\n",
       "      <td>12.279409</td>\n",
       "      <td>-2.102046</td>\n",
       "      <td>7.571269</td>\n",
       "      <td>6.491099</td>\n",
       "      <td>7.757051</td>\n",
       "    </tr>\n",
       "    <tr>\n",
       "      <th>4</th>\n",
       "      <td>4424</td>\n",
       "      <td>-0.046762</td>\n",
       "      <td>0.205482</td>\n",
       "      <td>0.185708</td>\n",
       "      <td>-0.005377</td>\n",
       "      <td>0.218237</td>\n",
       "      <td>-0.094255</td>\n",
       "      <td>0.145178</td>\n",
       "      <td>0.124556</td>\n",
       "      <td>0.148208</td>\n",
       "      <td>4424</td>\n",
       "      <td>-1.730197</td>\n",
       "      <td>7.602816</td>\n",
       "      <td>6.871180</td>\n",
       "      <td>-0.198932</td>\n",
       "      <td>8.074769</td>\n",
       "      <td>-3.487440</td>\n",
       "      <td>5.371600</td>\n",
       "      <td>4.608560</td>\n",
       "      <td>5.483689</td>\n",
       "    </tr>\n",
       "  </tbody>\n",
       "</table>\n",
       "</div>"
      ],
      "text/plain": [
       "    IDX  mean_ndvi_2022-06-02  mean_ndvi_2022-06-17  mean_ndvi_2022-06-07  \\\n",
       "0  3942              0.007476              0.212770              0.180844   \n",
       "1  4053              0.008709              0.202058              0.165046   \n",
       "2  4196              0.204576              0.192939              0.156745   \n",
       "3  4422             -0.001838              0.198717              0.181343   \n",
       "4  4424             -0.046762              0.205482              0.185708   \n",
       "\n",
       "   mean_ndvi_2022-06-22  mean_ndvi_2022-06-12  mean_ndre_2022-06-02  \\\n",
       "0              0.038478              0.219896             -0.017073   \n",
       "1             -0.019584              0.198812             -0.007738   \n",
       "2             -0.011448              0.186642              0.226347   \n",
       "3             -0.002894              0.215428             -0.036878   \n",
       "4             -0.005377              0.218237             -0.094255   \n",
       "\n",
       "   mean_ndre_2022-06-17  mean_ndre_2022-06-07  mean_ndre_2022-06-12  IDX.1  \\\n",
       "0              0.151714              0.123746              0.153333   3942   \n",
       "1              0.134886              0.106043              0.128798   4053   \n",
       "2              0.128658              0.095656              0.117090   4196   \n",
       "3              0.132829              0.113879              0.136089   4422   \n",
       "4              0.145178              0.124556              0.148208   4424   \n",
       "\n",
       "   sum_ndvi_2022-06-02  sum_ndvi_2022-06-17  sum_ndvi_2022-06-07  \\\n",
       "0             0.530825            15.106694            12.839933   \n",
       "1             1.689533            39.199349            32.018860   \n",
       "2            19.639275            18.522111            15.047543   \n",
       "3            -0.104746            11.326846            10.336535   \n",
       "4            -1.730197             7.602816             6.871180   \n",
       "\n",
       "   sum_ndvi_2022-06-22  sum_ndvi_2022-06-12  sum_ndre_2022-06-02  \\\n",
       "0             2.731913            15.612608            -1.212181   \n",
       "1            -3.799293            38.569600            -1.501124   \n",
       "2            -1.099016            17.917662            21.729303   \n",
       "3            -0.164956            12.279409            -2.102046   \n",
       "4            -0.198932             8.074769            -3.487440   \n",
       "\n",
       "   sum_ndre_2022-06-17  sum_ndre_2022-06-07  sum_ndre_2022-06-12  \n",
       "0            10.771678             8.785966            10.886635  \n",
       "1            26.167940            20.572346            24.986805  \n",
       "2            12.351145             9.183014            11.240659  \n",
       "3             7.571269             6.491099             7.757051  \n",
       "4             5.371600             4.608560             5.483689  "
      ]
     },
     "execution_count": 3,
     "metadata": {},
     "output_type": "execute_result"
    }
   ],
   "source": [
    "df = pd.read_csv(r'./data/preprocess.csv')\n",
    "\n",
    "df.head()"
   ]
  },
  {
   "cell_type": "code",
   "execution_count": 74,
   "metadata": {},
   "outputs": [],
   "source": [
    "df = df.drop( columns=['IDX', 'IDX.1'] )"
   ]
  },
  {
   "cell_type": "code",
   "execution_count": 75,
   "metadata": {},
   "outputs": [],
   "source": [
    "target = pd.read_csv('./data/target_PROD.csv')"
   ]
  },
  {
   "cell_type": "code",
   "execution_count": 76,
   "metadata": {},
   "outputs": [
    {
     "data": {
      "text/plain": [
       "'[31595, 3285, 2581, 13155, 2487, 0, 3843, 2537, 14912, 10374, 5482, 6076, 4489, 1235, 12240, 10599, 4426, 691, 5631, 2173, 1729, 12134, 3248, 4940, 4322]'"
      ]
     },
     "execution_count": 76,
     "metadata": {},
     "output_type": "execute_result"
    }
   ],
   "source": [
    "l = target[['PROD']]\n",
    "\n",
    "str(list(l['PROD']))"
   ]
  },
  {
   "cell_type": "code",
   "execution_count": 77,
   "metadata": {},
   "outputs": [],
   "source": [
    "from sklearn.preprocessing import LabelEncoder\n",
    "from sklearn.model_selection import train_test_split\n",
    "from sklearn.preprocessing import StandardScaler\n",
    "\n",
    "X = pd.read_csv(r'./data/preprocess.csv')\n",
    "y = target['PROD']\n",
    "\n",
    "X_train, X_test, y_train, y_test= train_test_split(\n",
    "    \n",
    "    X,y,\n",
    "    train_size   = 0.8,\n",
    "    random_state = 1234,\n",
    "    shuffle      = True\n",
    ")"
   ]
  },
  {
   "cell_type": "code",
   "execution_count": 86,
   "metadata": {},
   "outputs": [],
   "source": [
    "import warnings\n",
    "\n",
    "warnings.filterwarnings('ignore')"
   ]
  },
  {
   "cell_type": "code",
   "execution_count": 87,
   "metadata": {},
   "outputs": [
    {
     "data": {
      "text/plain": [
       "GridSearchCV(cv=5, estimator=MLPRegressor(), n_jobs=-1,\n",
       "             param_grid={'activation': ['tanh', 'relu'],\n",
       "                         'alpha': [0.0001, 0.05],\n",
       "                         'hidden_layer_sizes': [(150, 100, 50), (120, 80, 40),\n",
       "                                                (100, 50, 30)],\n",
       "                         'learning_rate': ['constant', 'adaptive'],\n",
       "                         'max_iter': [50, 100], 'solver': ['sgd', 'adam']})"
      ]
     },
     "execution_count": 87,
     "metadata": {},
     "output_type": "execute_result"
    }
   ],
   "source": [
    "from sklearn.model_selection import GridSearchCV\n",
    "from sklearn.neural_network import MLPRegressor\n",
    "\n",
    "param_grid = {\n",
    "    \n",
    "    'hidden_layer_sizes': [(150,100,50), (120,80,40), (100,50,30)],\n",
    "    'max_iter': [50, 100],\n",
    "    'activation': ['tanh', 'relu'],\n",
    "    'solver': ['sgd', 'adam'],\n",
    "    'alpha': [0.0001, 0.05],\n",
    "    'learning_rate': ['constant','adaptive'],\n",
    "}\n",
    "\n",
    "grid = GridSearchCV(MLPRegressor(), param_grid, n_jobs= -1, cv=5)\n",
    "\n",
    "grid.fit(X_train, y_train)\n",
    "\n",
    "# que diferencia hay entre este cv y el que hago en el pipeline ¿?"
   ]
  },
  {
   "cell_type": "code",
   "execution_count": 89,
   "metadata": {},
   "outputs": [
    {
     "name": "stdout",
     "output_type": "stream",
     "text": [
      "{'activation': 'tanh', 'alpha': 0.05, 'hidden_layer_sizes': (120, 80, 40), 'learning_rate': 'adaptive', 'max_iter': 50, 'solver': 'sgd'}\n"
     ]
    }
   ],
   "source": [
    "print(grid.best_params_) "
   ]
  },
  {
   "cell_type": "code",
   "execution_count": 88,
   "metadata": {},
   "outputs": [],
   "source": [
    "from sklearn.model_selection import cross_val_score\n",
    "from sklearn.preprocessing import StandardScaler\n",
    "from sklearn.datasets import make_classification\n",
    "from sklearn.model_selection import train_test_split\n",
    "from sklearn.pipeline import Pipeline\n",
    "from sklearn import metrics\n",
    "from sklearn.model_selection import KFold"
   ]
  },
  {
   "cell_type": "code",
   "execution_count": 67,
   "metadata": {},
   "outputs": [],
   "source": [
    "scaler=StandardScaler()\n",
    "x_train=scaler.fit_transform(X_train)\n",
    "x_test=scaler.transform(X_test)"
   ]
  },
  {
   "cell_type": "code",
   "execution_count": 91,
   "metadata": {},
   "outputs": [],
   "source": [
    "mlp=MLPRegressor(**grid.best_params_)\n",
    "\n",
    "pipeline=Pipeline([('transformer',scaler),('estimator',mlp)])\n",
    "\n",
    "pipeline.fit(X,y)\n",
    "\n",
    "cv=KFold(n_splits=5)\n",
    "\n",
    "# el cv lo aplicamos a todo el pipeline:\n",
    "\n",
    "scores_crossval=cross_val_score(pipeline,x_test,y_test,cv=cv)"
   ]
  },
  {
   "cell_type": "code",
   "execution_count": 84,
   "metadata": {},
   "outputs": [],
   "source": [
    "# Score and prediction:\n",
    "\n",
    "score = pipeline.score(X_test, y_test)\n",
    "\n",
    "predicted_y = pipeline.predict(X_test)"
   ]
  },
  {
   "cell_type": "code",
   "execution_count": 80,
   "metadata": {},
   "outputs": [
    {
     "name": "stdout",
     "output_type": "stream",
     "text": [
      "scores cross val [-13.27685809  -2.20996751          nan]\n",
      "pipeline score -1.262720586100106\n"
     ]
    }
   ],
   "source": [
    "print('scores cross val',scores_crossval)\n",
    "\n",
    "print('pipeline score',pipeline.score(x_test,y_test))"
   ]
  },
  {
   "cell_type": "code",
   "execution_count": 85,
   "metadata": {},
   "outputs": [
    {
     "name": "stdout",
     "output_type": "stream",
     "text": [
      "Mean Absolute Error: 5165.410953704504\n",
      "Mean Squared Error: 42994093.74231811\n",
      "Root Mean Squared Error: 6556.98816091032\n"
     ]
    }
   ],
   "source": [
    "from sklearn import metrics\n",
    "\n",
    "print('Mean Absolute Error:', metrics.mean_absolute_error(y_test, predicted_y))  \n",
    "print('Mean Squared Error:', metrics.mean_squared_error(y_test, predicted_y))  \n",
    "print('Root Mean Squared Error:', np.sqrt(metrics.mean_squared_error(y_test, predicted_y)))"
   ]
  }
 ],
 "metadata": {
  "kernelspec": {
   "display_name": "Python 3",
   "language": "python",
   "name": "python3"
  },
  "language_info": {
   "codemirror_mode": {
    "name": "ipython",
    "version": 3
   },
   "file_extension": ".py",
   "mimetype": "text/x-python",
   "name": "python",
   "nbconvert_exporter": "python",
   "pygments_lexer": "ipython3",
   "version": "3.8.10"
  },
  "orig_nbformat": 4,
  "vscode": {
   "interpreter": {
    "hash": "9650cb4e16cdd4a8e8e2d128bf38d875813998db22a3c986335f89e0cb4d7bb2"
   }
  }
 },
 "nbformat": 4,
 "nbformat_minor": 2
}
