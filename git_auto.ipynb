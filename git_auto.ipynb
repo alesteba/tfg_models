{
 "cells": [
  {
   "cell_type": "code",
   "execution_count": 5,
   "metadata": {},
   "outputs": [
    {
     "name": "stdout",
     "output_type": "stream",
     "text": [
      "<git.repo.base.Repo 'e:\\\\UR\\\\TFG\\\\data\\\\.git'>\n",
      "Changes detected.\n",
      "alesteba@unirioja.com\n",
      "alesteba\n",
      "main\n",
      "Remotes:\n",
      "- origin https://github.com/alesteba/tfg_models.git\n",
      "Remote name: origin\n",
      "Remote URL: https://github.com/alesteba/tfg_models.git\n"
     ]
    },
    {
     "ename": "GitCommandError",
     "evalue": "Cmd('git') failed due to: exit code(128)\n  cmdline: git push --porcelain origin\n  stderr: 'fatal: The current branch main has no upstream branch.'",
     "output_type": "error",
     "traceback": [
      "\u001b[1;31m---------------------------------------------------------------------------\u001b[0m",
      "\u001b[1;31mGitCommandError\u001b[0m                           Traceback (most recent call last)",
      "\u001b[1;32me:\\UR\\TFG\\data\\git_auto.ipynb Cell 1\u001b[0m in \u001b[0;36m<cell line: 1>\u001b[1;34m()\u001b[0m\n\u001b[1;32m----> <a href='vscode-notebook-cell:/e%3A/UR/TFG/data/git_auto.ipynb#W0sZmlsZQ%3D%3D?line=0'>1</a>\u001b[0m exec(\u001b[39mopen\u001b[39;49m(\u001b[39m\"\u001b[39;49m\u001b[39mgitpython.py\u001b[39;49m\u001b[39m\"\u001b[39;49m)\u001b[39m.\u001b[39;49mread())\n",
      "File \u001b[1;32m<string>:98\u001b[0m, in \u001b[0;36m<module>\u001b[1;34m\u001b[0m\n",
      "File \u001b[1;32mc:\\Python38\\lib\\site-packages\\git\\remote.py:952\u001b[0m, in \u001b[0;36mRemote.push\u001b[1;34m(self, refspec, progress, kill_after_timeout, **kwargs)\u001b[0m\n\u001b[0;32m    947\u001b[0m kwargs \u001b[39m=\u001b[39m add_progress(kwargs, \u001b[39mself\u001b[39m\u001b[39m.\u001b[39mrepo\u001b[39m.\u001b[39mgit, progress)\n\u001b[0;32m    948\u001b[0m proc \u001b[39m=\u001b[39m \u001b[39mself\u001b[39m\u001b[39m.\u001b[39mrepo\u001b[39m.\u001b[39mgit\u001b[39m.\u001b[39mpush(\u001b[39mself\u001b[39m, refspec, porcelain\u001b[39m=\u001b[39m\u001b[39mTrue\u001b[39;00m, as_process\u001b[39m=\u001b[39m\u001b[39mTrue\u001b[39;00m,\n\u001b[0;32m    949\u001b[0m                           universal_newlines\u001b[39m=\u001b[39m\u001b[39mTrue\u001b[39;00m,\n\u001b[0;32m    950\u001b[0m                           kill_after_timeout\u001b[39m=\u001b[39mkill_after_timeout,\n\u001b[0;32m    951\u001b[0m                           \u001b[39m*\u001b[39m\u001b[39m*\u001b[39mkwargs)\n\u001b[1;32m--> 952\u001b[0m \u001b[39mreturn\u001b[39;00m \u001b[39mself\u001b[39;49m\u001b[39m.\u001b[39;49m_get_push_info(proc, progress,\n\u001b[0;32m    953\u001b[0m                            kill_after_timeout\u001b[39m=\u001b[39;49mkill_after_timeout)\n",
      "File \u001b[1;32mc:\\Python38\\lib\\site-packages\\git\\remote.py:814\u001b[0m, in \u001b[0;36mRemote._get_push_info\u001b[1;34m(self, proc, progress, kill_after_timeout)\u001b[0m\n\u001b[0;32m    812\u001b[0m stderr_text \u001b[39m=\u001b[39m progress\u001b[39m.\u001b[39merror_lines \u001b[39mand\u001b[39;00m \u001b[39m'\u001b[39m\u001b[39m\\n\u001b[39;00m\u001b[39m'\u001b[39m\u001b[39m.\u001b[39mjoin(progress\u001b[39m.\u001b[39merror_lines) \u001b[39mor\u001b[39;00m \u001b[39m'\u001b[39m\u001b[39m'\u001b[39m\n\u001b[0;32m    813\u001b[0m \u001b[39mtry\u001b[39;00m:\n\u001b[1;32m--> 814\u001b[0m     proc\u001b[39m.\u001b[39;49mwait(stderr\u001b[39m=\u001b[39;49mstderr_text)\n\u001b[0;32m    815\u001b[0m \u001b[39mexcept\u001b[39;00m \u001b[39mException\u001b[39;00m \u001b[39mas\u001b[39;00m e:\n\u001b[0;32m    816\u001b[0m     \u001b[39m# This is different than fetch (which fails if there is any std_err\u001b[39;00m\n\u001b[0;32m    817\u001b[0m     \u001b[39m# even if there is an output)\u001b[39;00m\n\u001b[0;32m    818\u001b[0m     \u001b[39mif\u001b[39;00m \u001b[39mnot\u001b[39;00m output:\n",
      "File \u001b[1;32mc:\\Python38\\lib\\site-packages\\git\\cmd.py:502\u001b[0m, in \u001b[0;36mGit.AutoInterrupt.wait\u001b[1;34m(self, stderr)\u001b[0m\n\u001b[0;32m    500\u001b[0m     errstr \u001b[39m=\u001b[39m read_all_from_possibly_closed_stream(p_stderr)\n\u001b[0;32m    501\u001b[0m     log\u001b[39m.\u001b[39mdebug(\u001b[39m'\u001b[39m\u001b[39mAutoInterrupt wait stderr: \u001b[39m\u001b[39m%r\u001b[39;00m\u001b[39m'\u001b[39m \u001b[39m%\u001b[39m (errstr,))\n\u001b[1;32m--> 502\u001b[0m     \u001b[39mraise\u001b[39;00m GitCommandError(remove_password_if_present(\u001b[39mself\u001b[39m\u001b[39m.\u001b[39margs), status, errstr)\n\u001b[0;32m    503\u001b[0m \u001b[39mreturn\u001b[39;00m status\n",
      "\u001b[1;31mGitCommandError\u001b[0m: Cmd('git') failed due to: exit code(128)\n  cmdline: git push --porcelain origin\n  stderr: 'fatal: The current branch main has no upstream branch.'"
     ]
    }
   ],
   "source": [
    "exec(open(\"gitpython.py\").read())"
   ]
  }
 ],
 "metadata": {
  "kernelspec": {
   "display_name": "Python 3",
   "language": "python",
   "name": "python3"
  },
  "language_info": {
   "codemirror_mode": {
    "name": "ipython",
    "version": 3
   },
   "file_extension": ".py",
   "mimetype": "text/x-python",
   "name": "python",
   "nbconvert_exporter": "python",
   "pygments_lexer": "ipython3",
   "version": "3.8.10"
  },
  "orig_nbformat": 4,
  "vscode": {
   "interpreter": {
    "hash": "9650cb4e16cdd4a8e8e2d128bf38d875813998db22a3c986335f89e0cb4d7bb2"
   }
  }
 },
 "nbformat": 4,
 "nbformat_minor": 2
}
