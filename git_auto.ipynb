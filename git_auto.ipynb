{
 "cells": [
  {
   "cell_type": "code",
   "execution_count": null,
   "metadata": {},
   "outputs": [],
   "source": []
  },
  {
   "cell_type": "code",
   "execution_count": 1,
   "metadata": {},
   "outputs": [
    {
     "name": "stdout",
     "output_type": "stream",
     "text": [
      "e:\\UR\\TFG\\data\\publish\n"
     ]
    },
    {
     "ename": "NoSuchPathError",
     "evalue": "e:\\UR\\TFG\\data\\publish",
     "output_type": "error",
     "traceback": [
      "\u001b[1;31m---------------------------------------------------------------------------\u001b[0m",
      "\u001b[1;31mNoSuchPathError\u001b[0m                           Traceback (most recent call last)",
      "\u001b[1;32me:\\UR\\TFG\\data\\git_auto.ipynb Cell 2\u001b[0m in \u001b[0;36m<cell line: 1>\u001b[1;34m()\u001b[0m\n\u001b[1;32m----> <a href='vscode-notebook-cell:/e%3A/UR/TFG/data/git_auto.ipynb#W0sZmlsZQ%3D%3D?line=0'>1</a>\u001b[0m exec(\u001b[39mopen\u001b[39;49m(\u001b[39m\"\u001b[39;49m\u001b[39mgitpython.py\u001b[39;49m\u001b[39m\"\u001b[39;49m)\u001b[39m.\u001b[39;49mread())\n",
      "File \u001b[1;32m<string>:22\u001b[0m, in \u001b[0;36m<module>\u001b[1;34m\u001b[0m\n",
      "File \u001b[1;32mc:\\Python38\\lib\\site-packages\\git\\repo\\base.py:152\u001b[0m, in \u001b[0;36mRepo.__init__\u001b[1;34m(self, path, odbt, search_parent_directories, expand_vars)\u001b[0m\n\u001b[0;32m    150\u001b[0m \u001b[39mif\u001b[39;00m epath \u001b[39mis\u001b[39;00m \u001b[39mnot\u001b[39;00m \u001b[39mNone\u001b[39;00m:\n\u001b[0;32m    151\u001b[0m     \u001b[39mif\u001b[39;00m \u001b[39mnot\u001b[39;00m os\u001b[39m.\u001b[39mpath\u001b[39m.\u001b[39mexists(epath):\n\u001b[1;32m--> 152\u001b[0m         \u001b[39mraise\u001b[39;00m NoSuchPathError(epath)\n\u001b[0;32m    154\u001b[0m \u001b[39m## Walk up the path to find the `.git` dir.\u001b[39;00m\n\u001b[0;32m    155\u001b[0m \u001b[39m#\u001b[39;00m\n\u001b[0;32m    156\u001b[0m curpath \u001b[39m=\u001b[39m epath\n",
      "\u001b[1;31mNoSuchPathError\u001b[0m: e:\\UR\\TFG\\data\\publish"
     ]
    }
   ],
   "source": [
    "exec(open(\"gitpython.py\").read())"
   ]
  }
 ],
 "metadata": {
  "kernelspec": {
   "display_name": "Python 3",
   "language": "python",
   "name": "python3"
  },
  "language_info": {
   "codemirror_mode": {
    "name": "ipython",
    "version": 3
   },
   "file_extension": ".py",
   "mimetype": "text/x-python",
   "name": "python",
   "nbconvert_exporter": "python",
   "pygments_lexer": "ipython3",
   "version": "3.8.10"
  },
  "orig_nbformat": 4,
  "vscode": {
   "interpreter": {
    "hash": "9650cb4e16cdd4a8e8e2d128bf38d875813998db22a3c986335f89e0cb4d7bb2"
   }
  }
 },
 "nbformat": 4,
 "nbformat_minor": 2
}
