{
 "cells": [
  {
   "cell_type": "code",
   "execution_count": 1,
   "metadata": {},
   "outputs": [
    {
     "name": "stdout",
     "output_type": "stream",
     "text": [
      "<git.repo.base.Repo 'e:\\\\UR\\\\TFG\\\\data\\\\.git'>\n",
      "alesteba@unirioja.com\n",
      "alesteba\n",
      "main\n",
      "Remotes:\n",
      "- origin https://github.com/alesteba/tfg_models.git\n",
      "Remote name: origin\n",
      "Remote URL: https://github.com/alesteba/tfg_models.git\n"
     ]
    },
    {
     "ename": "GitCommandError",
     "evalue": "Cmd('git') failed due to: exit code(1)\n  cmdline: git commit -m ORGMA3\n  stdout: 'On branch main\nYour branch is ahead of 'origin/main' by 1 commit.\n  (use \"git push\" to publish your local commits)\n\nnothing to commit, working tree clean'",
     "output_type": "error",
     "traceback": [
      "\u001b[1;31m---------------------------------------------------------------------------\u001b[0m",
      "\u001b[1;31mGitCommandError\u001b[0m                           Traceback (most recent call last)",
      "\u001b[1;32me:\\UR\\TFG\\data\\git_auto.ipynb Cell 1\u001b[0m in \u001b[0;36m<cell line: 1>\u001b[1;34m()\u001b[0m\n\u001b[1;32m----> <a href='vscode-notebook-cell:/e%3A/UR/TFG/data/git_auto.ipynb#W0sZmlsZQ%3D%3D?line=0'>1</a>\u001b[0m exec(\u001b[39mopen\u001b[39;49m(\u001b[39m\"\u001b[39;49m\u001b[39mgitpython.py\u001b[39;49m\u001b[39m\"\u001b[39;49m)\u001b[39m.\u001b[39;49mread())\n",
      "File \u001b[1;32m<string>:94\u001b[0m, in \u001b[0;36m<module>\u001b[1;34m\u001b[0m\n",
      "File \u001b[1;32mc:\\Python38\\lib\\site-packages\\git\\cmd.py:639\u001b[0m, in \u001b[0;36mGit.__getattr__.<locals>.<lambda>\u001b[1;34m(*args, **kwargs)\u001b[0m\n\u001b[0;32m    637\u001b[0m \u001b[39mif\u001b[39;00m name[\u001b[39m0\u001b[39m] \u001b[39m==\u001b[39m \u001b[39m'\u001b[39m\u001b[39m_\u001b[39m\u001b[39m'\u001b[39m:\n\u001b[0;32m    638\u001b[0m     \u001b[39mreturn\u001b[39;00m LazyMixin\u001b[39m.\u001b[39m\u001b[39m__getattr__\u001b[39m(\u001b[39mself\u001b[39m, name)\n\u001b[1;32m--> 639\u001b[0m \u001b[39mreturn\u001b[39;00m \u001b[39mlambda\u001b[39;00m \u001b[39m*\u001b[39margs, \u001b[39m*\u001b[39m\u001b[39m*\u001b[39mkwargs: \u001b[39mself\u001b[39;49m\u001b[39m.\u001b[39;49m_call_process(name, \u001b[39m*\u001b[39;49margs, \u001b[39m*\u001b[39;49m\u001b[39m*\u001b[39;49mkwargs)\n",
      "File \u001b[1;32mc:\\Python38\\lib\\site-packages\\git\\cmd.py:1184\u001b[0m, in \u001b[0;36mGit._call_process\u001b[1;34m(self, method, *args, **kwargs)\u001b[0m\n\u001b[0;32m   1181\u001b[0m call\u001b[39m.\u001b[39mappend(dashify(method))\n\u001b[0;32m   1182\u001b[0m call\u001b[39m.\u001b[39mextend(args_list)\n\u001b[1;32m-> 1184\u001b[0m \u001b[39mreturn\u001b[39;00m \u001b[39mself\u001b[39;49m\u001b[39m.\u001b[39;49mexecute(call, \u001b[39m*\u001b[39;49m\u001b[39m*\u001b[39;49mexec_kwargs)\n",
      "File \u001b[1;32mc:\\Python38\\lib\\site-packages\\git\\cmd.py:984\u001b[0m, in \u001b[0;36mGit.execute\u001b[1;34m(self, command, istream, with_extended_output, with_exceptions, as_process, output_stream, stdout_as_string, kill_after_timeout, with_stdout, universal_newlines, shell, env, max_chunk_size, **subprocess_kwargs)\u001b[0m\n\u001b[0;32m    981\u001b[0m \u001b[39m# END handle debug printing\u001b[39;00m\n\u001b[0;32m    983\u001b[0m \u001b[39mif\u001b[39;00m with_exceptions \u001b[39mand\u001b[39;00m status \u001b[39m!=\u001b[39m \u001b[39m0\u001b[39m:\n\u001b[1;32m--> 984\u001b[0m     \u001b[39mraise\u001b[39;00m GitCommandError(redacted_command, status, stderr_value, stdout_value)\n\u001b[0;32m    986\u001b[0m \u001b[39mif\u001b[39;00m \u001b[39misinstance\u001b[39m(stdout_value, \u001b[39mbytes\u001b[39m) \u001b[39mand\u001b[39;00m stdout_as_string:  \u001b[39m# could also be output_stream\u001b[39;00m\n\u001b[0;32m    987\u001b[0m     stdout_value \u001b[39m=\u001b[39m safe_decode(stdout_value)\n",
      "\u001b[1;31mGitCommandError\u001b[0m: Cmd('git') failed due to: exit code(1)\n  cmdline: git commit -m ORGMA3\n  stdout: 'On branch main\nYour branch is ahead of 'origin/main' by 1 commit.\n  (use \"git push\" to publish your local commits)\n\nnothing to commit, working tree clean'"
     ]
    }
   ],
   "source": [
    "exec(open(\"gitpython.py\").read())\n",
    "\n",
    "# he tenido que hacer una vez este comando para tire:\n",
    "\n",
    "# git push -u origin head "
   ]
  }
 ],
 "metadata": {
  "kernelspec": {
   "display_name": "Python 3",
   "language": "python",
   "name": "python3"
  },
  "language_info": {
   "codemirror_mode": {
    "name": "ipython",
    "version": 3
   },
   "file_extension": ".py",
   "mimetype": "text/x-python",
   "name": "python",
   "nbconvert_exporter": "python",
   "pygments_lexer": "ipython3",
   "version": "3.8.10"
  },
  "orig_nbformat": 4,
  "vscode": {
   "interpreter": {
    "hash": "9650cb4e16cdd4a8e8e2d128bf38d875813998db22a3c986335f89e0cb4d7bb2"
   }
  }
 },
 "nbformat": 4,
 "nbformat_minor": 2
}
